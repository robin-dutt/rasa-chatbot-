{
 "cells": [
  {
   "cell_type": "code",
   "execution_count": 1,
   "id": "eae16166",
   "metadata": {},
   "outputs": [
    {
     "name": "stdout",
     "output_type": "stream",
     "text": [
      "Collecting mysql-connector-python-rfNote: you may need to restart the kernel to use updated packages.\n",
      "\n",
      "  Downloading mysql-connector-python-rf-2.2.2.tar.gz (11.9 MB)\n",
      "     ---------------------------------------- 11.9/11.9 MB 1.7 MB/s eta 0:00:00\n",
      "  Preparing metadata (setup.py): started\n",
      "  Preparing metadata (setup.py): finished with status 'done'\n",
      "Building wheels for collected packages: mysql-connector-python-rf\n",
      "  Building wheel for mysql-connector-python-rf (setup.py): started\n",
      "  Building wheel for mysql-connector-python-rf (setup.py): finished with status 'done'\n",
      "  Created wheel for mysql-connector-python-rf: filename=mysql_connector_python_rf-2.2.2-cp39-cp39-win_amd64.whl size=249451 sha256=d5e79da58196e1fec821edd8d99640e862336e2a18beb5307c1b1c957da9014e\n",
      "  Stored in directory: c:\\users\\robin\\appdata\\local\\pip\\cache\\wheels\\64\\06\\5b\\ef9543936a3f5de15b02775b6ae548a09f3ed2319d20342771\n",
      "Successfully built mysql-connector-python-rf\n",
      "Installing collected packages: mysql-connector-python-rf\n",
      "Successfully installed mysql-connector-python-rf-2.2.2\n"
     ]
    }
   ],
   "source": [
    "pip install mysql-connector-python-rf"
   ]
  },
  {
   "cell_type": "code",
   "execution_count": 3,
   "id": "69ab2794",
   "metadata": {},
   "outputs": [],
   "source": [
    "import mysql.connector\n",
    "def DataUpdate(FirstName,LastName,Feedback): \n",
    "              mydb = mysql.connector.connect( host=\"localhost\", user=\"root\",passwd=\"root\", database=\"Rasa_feedback\") \n",
    "              mycursor = mydb.cursor() \n",
    "              sql='INSERT INTO FeedBack_rasa_date (firstName, lastName, feedback) VALUES (\"{0}\",\"{1}\", \"{2}\");'.format(FirstName,LastName,Feedback) \n",
    "              mycursor.execute(sql) \n",
    "              mydb.commit()"
   ]
  },
  {
   "cell_type": "code",
   "execution_count": null,
   "id": "0626fead",
   "metadata": {},
   "outputs": [],
   "source": []
  }
 ],
 "metadata": {
  "kernelspec": {
   "display_name": "Python 3 (ipykernel)",
   "language": "python",
   "name": "python3"
  },
  "language_info": {
   "codemirror_mode": {
    "name": "ipython",
    "version": 3
   },
   "file_extension": ".py",
   "mimetype": "text/x-python",
   "name": "python",
   "nbconvert_exporter": "python",
   "pygments_lexer": "ipython3",
   "version": "3.9.13"
  }
 },
 "nbformat": 4,
 "nbformat_minor": 5
}
